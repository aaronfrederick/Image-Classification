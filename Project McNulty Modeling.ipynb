{
 "cells": [
  {
   "cell_type": "code",
   "execution_count": 1,
   "metadata": {},
   "outputs": [],
   "source": [
    "import pandas as pd\n",
    "import numpy as np\n",
    "import seaborn as sns\n",
    "import matplotlib.pyplot as plt\n",
    "import sklearn as sk\n",
    "from sklearn.model_selection import train_test_split, KFold, GridSearchCV\n",
    "from sklearn.metrics import classification_report, roc_curve\n",
    "from sklearn.preprocessing import StandardScaler\n",
    "from sklearn.neighbors import KNeighborsClassifier\n",
    "from sklearn.linear_model import LogisticRegression\n",
    "from sklearn import svm\n",
    "import os\n",
    "from skimage.transform import resize\n",
    "from skimage import io\n",
    "import cv2\n",
    "import imageio\n",
    "import pickle\n",
    "import warnings\n",
    "from tqdm import tqdm\n",
    "import multiprocessing as multi"
   ]
  },
  {
   "cell_type": "code",
   "execution_count": 2,
   "metadata": {},
   "outputs": [],
   "source": [
    "###  Load Data from Pickled Files  ###\n",
    "neg_df = pd.read_pickle('neg_df.pkl')\n",
    "pos_df = pd.read_pickle('pos_df.pkl')"
   ]
  },
  {
   "cell_type": "code",
   "execution_count": 3,
   "metadata": {},
   "outputs": [],
   "source": [
    "###  Data splitting and preparing for modeling  ###\n",
    "   ###  Don't run until dataset is assembled  ###\n",
    "\n",
    "#make balanced classes by sampling the negative dataset\n",
    "sliced_neg = neg_df.sample(pos_df.shape[0])\n",
    "df = pos_df.append(sliced_neg)"
   ]
  },
  {
   "cell_type": "code",
   "execution_count": 4,
   "metadata": {},
   "outputs": [],
   "source": [
    "# for i in range(3072):\n",
    "#     df[i]=df[i].astype('float64')\n",
    "# df.dtypes"
   ]
  },
  {
   "cell_type": "code",
   "execution_count": 5,
   "metadata": {},
   "outputs": [],
   "source": [
    "X_unscaled = df.drop(columns = 'Edel', axis=1)\n",
    "y = df.Edel\n",
    "scaler = StandardScaler()\n",
    "X = scaler.fit_transform(X_unscaled)\n",
    "X_train, X_test, y_train, y_test = train_test_split(X,y, test_size = 0.3, train_size = 0.7)"
   ]
  },
  {
   "cell_type": "code",
   "execution_count": 6,
   "metadata": {},
   "outputs": [],
   "source": [
    "###  Run this cell in AWS, takes forever and clogs memory  ###\n",
    "\n",
    "# options = {'degree':[1,2,3,4,5], 'C':np.logspace(-3,2,25)}\n",
    "# clf = GridSearchCV(svm.SVC(kernel='poly'), param_grid=options, cv=5, n_jobs=-1)\n",
    "# clf.fit(X_train,y_train)"
   ]
  },
  {
   "cell_type": "code",
   "execution_count": null,
   "metadata": {},
   "outputs": [],
   "source": [
    "polysvc = svm.SVC(kernel = 'poly', degree = 2)\n",
    "polysvc.fit(X_train,y_train)\n",
    "print(polysvc.score(X_test,y_test))\n",
    "print('polysvm', classification_report(y_test, polysvc.predict(X_test)))"
   ]
  },
  {
   "cell_type": "code",
   "execution_count": null,
   "metadata": {},
   "outputs": [],
   "source": [
    "pickle.dump(polysvc,'topmodel.pkl')"
   ]
  },
  {
   "cell_type": "code",
   "execution_count": 10,
   "metadata": {},
   "outputs": [
    {
     "name": "stdout",
     "output_type": "stream",
     "text": [
      "0.9305348978130337\n",
      "logreg              precision    recall  f1-score   support\n",
      "\n",
      "          0       0.90      0.97      0.93      9091\n",
      "          1       0.96      0.90      0.93      9062\n",
      "\n",
      "avg / total       0.93      0.93      0.93     18153\n",
      "\n"
     ]
    }
   ],
   "source": [
    "logreg = LogisticRegression(C=1)\n",
    "logreg.fit(X_train,y_train)\n",
    "print(logreg.score(X_test,y_test))\n",
    "print('logreg', classification_report(y_test, logreg.predict(X_test)))"
   ]
  },
  {
   "cell_type": "code",
   "execution_count": 11,
   "metadata": {},
   "outputs": [
    {
     "name": "stdout",
     "output_type": "stream",
     "text": [
      "0.9345562716906296\n",
      "lsvm              precision    recall  f1-score   support\n",
      "\n",
      "          0       0.90      0.98      0.94      9091\n",
      "          1       0.98      0.89      0.93      9062\n",
      "\n",
      "avg / total       0.94      0.93      0.93     18153\n",
      "\n"
     ]
    }
   ],
   "source": [
    "lsvc = svm.LinearSVC(C=0.001)\n",
    "lsvc.fit(X_train,y_train)\n",
    "print(lsvc.score(X_test,y_test))\n",
    "print('lsvm', classification_report(y_test, lsvc.predict(X_test)))"
   ]
  },
  {
   "cell_type": "code",
   "execution_count": 12,
   "metadata": {},
   "outputs": [
    {
     "name": "stdout",
     "output_type": "stream",
     "text": [
      "0.9953175783617033\n",
      "rbfsvm              precision    recall  f1-score   support\n",
      "\n",
      "          0       0.99      1.00      1.00      9091\n",
      "          1       1.00      0.99      1.00      9062\n",
      "\n",
      "avg / total       1.00      1.00      1.00     18153\n",
      "\n"
     ]
    }
   ],
   "source": [
    "svc = svm.SVC(kernel = 'rbf', gamma = 0.0001)\n",
    "svc.fit(X_train,y_train)\n",
    "print(svc.score(X_test,y_test))\n",
    "print('rbfsvm', classification_report(y_test, svc.predict(X_test)))"
   ]
  },
  {
   "cell_type": "code",
   "execution_count": null,
   "metadata": {},
   "outputs": [],
   "source": [
    "###  Experimentation with CNNs and Keras  ###\n",
    "###  Code taken from Keras Documentation  ###\n",
    "\n",
    "from keras.applications.inception_v3 import InceptionV3\n",
    "from keras.preprocessing import image\n",
    "from keras.models import Model\n",
    "from keras.layers import Dense, GlobalAveragePooling2D\n",
    "from keras import backend as K\n",
    "\n",
    "# create the base pre-trained model\n",
    "base_model = InceptionV3(weights='imagenet', include_top=False)\n",
    "\n",
    "# add a global spatial average pooling layer\n",
    "x = base_model.output\n",
    "x = GlobalAveragePooling2D()(x)\n",
    "# let's add a fully-connected layer\n",
    "x = Dense(1024, activation='relu')(x)\n",
    "# and a logistic layer -- let's say we have 200 classes\n",
    "predictions = Dense(2, activation='softmax')(x)\n",
    "\n",
    "# this is the model we will train\n",
    "model = Model(inputs=base_model.input, outputs=predictions)\n",
    "\n",
    "# first: train only the top layers (which were randomly initialized)\n",
    "# i.e. freeze all convolutional InceptionV3 layers\n",
    "for layer in base_model.layers:\n",
    "    layer.trainable = False\n",
    "\n",
    "# compile the model (should be done *after* setting layers to non-trainable)\n",
    "model.compile(optimizer='rmsprop', loss='categorical_crossentropy')\n",
    "\n",
    "# train the model on the new data for a few epochs\n",
    "model.fit_generator()\n",
    "\n",
    "# at this point, the top layers are well trained and we can start fine-tuning\n",
    "# convolutional layers from inception V3. We will freeze the bottom N layers\n",
    "# and train the remaining top layers.\n",
    "\n",
    "# let's visualize layer names and layer indices to see how many layers\n",
    "# we should freeze:\n",
    "for i, layer in enumerate(base_model.layers):\n",
    "    print(i, layer.name)\n",
    "\n",
    "# we chose to train the top 2 inception blocks, i.e. we will freeze\n",
    "# the first 249 layers and unfreeze the rest:\n",
    "for layer in model.layers[:249]:\n",
    "    layer.trainable = False\n",
    "for layer in model.layers[249:]:\n",
    "    layer.trainable = True\n",
    "\n",
    "# we need to recompile the model for these modifications to take effect\n",
    "# we use SGD with a low learning rate\n",
    "from keras.optimizers import SGD\n",
    "model.compile(optimizer=SGD(lr=0.0001, momentum=0.9), loss='categorical_crossentropy')\n",
    "\n",
    "# we train our model again (this time fine-tuning the top 2 inception blocks\n",
    "# alongside the top Dense layers\n",
    "model.fit_generator(...)"
   ]
  },
  {
   "cell_type": "code",
   "execution_count": null,
   "metadata": {},
   "outputs": [],
   "source": []
  }
 ],
 "metadata": {
  "kernelspec": {
   "display_name": "Python 3",
   "language": "python",
   "name": "python3"
  },
  "language_info": {
   "codemirror_mode": {
    "name": "ipython",
    "version": 3
   },
   "file_extension": ".py",
   "mimetype": "text/x-python",
   "name": "python",
   "nbconvert_exporter": "python",
   "pygments_lexer": "ipython3",
   "version": "3.6.5"
  }
 },
 "nbformat": 4,
 "nbformat_minor": 2
}
